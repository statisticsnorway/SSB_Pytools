{
 "cells": [
  {
   "cell_type": "code",
   "execution_count": 7,
   "metadata": {
    "Collapsed": "false"
   },
   "outputs": [],
   "source": [
    "%run ../../utils/Imports.py\n",
    "%run ../../utils/visualisation/table_as_image.py"
   ]
  },
  {
   "cell_type": "markdown",
   "metadata": {
    "Collapsed": "false"
   },
   "source": [
    "This notebook is the current itteration of the work to develop a Generic function to transform data from a numerical tabel into a image. \n",
    "\n",
    "THe start point is documented bellow. This was the point at which i left it off after SSB Hackathon 2019 "
   ]
  },
  {
   "cell_type": "code",
   "execution_count": null,
   "metadata": {
    "Collapsed": "false",
    "jupyter": {
     "source_hidden": true
    }
   },
   "outputs": [],
   "source": [
    "ident = 'ENHETS_ID'\n",
    "aar = 'aar'\n",
    "felt_id = 'FELT_ID'\n",
    "felt_verdi= 'FELT_VERDI'\n",
    "data = numerisk_test_data\n",
    "\n",
    "original_data = data.pivot_table(index=[ident, aar], \n",
    "                         columns = felt_id, \n",
    "                         values = felt_verdi)\\\n",
    "            .reset_index()\\\n",
    "            .set_index(ident)\\\n",
    "            .fillna(0)\n",
    "\n",
    "min_max_scaler = preprocessing.MinMaxScaler()\n",
    "Original_images = {}\n",
    "for i in original_data.index.drop_duplicates():\n",
    "    bilde = []\n",
    "    years = pivot.loc[pivot.index == i].values.astype('uint8').tolist()\n",
    "    years = min_max_scaler.fit_transform(years)\n",
    "    for entry in years:\n",
    "        row = []\n",
    "        for value in entry:\n",
    "            val = []\n",
    "            val.extend([value,value,value])\n",
    "            row.append(val)\n",
    "        bilde.append(row)\n",
    "    Original_images[i]= bilde"
   ]
  },
  {
   "cell_type": "code",
   "execution_count": null,
   "metadata": {
    "Collapsed": "false"
   },
   "outputs": [],
   "source": [
    "ident = 'ENHETS_ID'\n",
    "aar = 'aar'\n",
    "felt_id = 'FELT_ID'\n",
    "felt_verdi= 'FELT_VERDI'\n",
    "data = numerisk_test_data"
   ]
  },
  {
   "cell_type": "code",
   "execution_count": null,
   "metadata": {
    "Collapsed": "false"
   },
   "outputs": [],
   "source": [
    "original_data = data.pivot_table(index=[ident, aar], \n",
    "                         columns = felt_id, \n",
    "                         values = felt_verdi)\\\n",
    "            .reset_index()\\\n",
    "            .set_index(ident)\\\n",
    "            .fillna(0)"
   ]
  },
  {
   "cell_type": "code",
   "execution_count": null,
   "metadata": {
    "Collapsed": "false"
   },
   "outputs": [],
   "source": [
    "min_max_scaler = preprocessing.MinMaxScaler()\n",
    "Original_images = {}\n",
    "for i in original_data.index.drop_duplicates():\n",
    "    bilde = []\n",
    "    years = pivot.loc[pivot.index == i].values.astype('uint8').tolist()\n",
    "    years = min_max_scaler.fit_transform(years)\n",
    "    for entry in years:\n",
    "        row = []\n",
    "        for value in entry:\n",
    "            val = []\n",
    "            val.extend([value,value,value])\n",
    "            row.append(val)\n",
    "        bilde.append(row)\n",
    "    Original_images[i]= bilde"
   ]
  },
  {
   "cell_type": "code",
   "execution_count": null,
   "metadata": {
    "Collapsed": "false"
   },
   "outputs": [],
   "source": []
  }
 ],
 "metadata": {
  "kernelspec": {
   "display_name": "Python 3",
   "language": "python",
   "name": "python3"
  },
  "language_info": {
   "codemirror_mode": {
    "name": "ipython",
    "version": 3
   },
   "file_extension": ".py",
   "mimetype": "text/x-python",
   "name": "python",
   "nbconvert_exporter": "python",
   "pygments_lexer": "ipython3",
   "version": "3.7.4"
  }
 },
 "nbformat": 4,
 "nbformat_minor": 4
}
