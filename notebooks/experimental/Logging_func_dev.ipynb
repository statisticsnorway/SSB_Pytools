{
 "cells": [
  {
   "cell_type": "markdown",
   "metadata": {
    "Collapsed": "false"
   },
   "source": [
    "# Development of Logging and quality data functions.\n",
    "By Simen Svenkerud\n",
    "\n",
    "AS "
   ]
  },
  {
   "cell_type": "code",
   "execution_count": 14,
   "metadata": {
    "Collapsed": "false"
   },
   "outputs": [],
   "source": [
    "%run ../../utils/Imports.py\n",
    "%run ../../utils/logging_quality/logging.py\n",
    "%run ../../utils/logging_quality/manuall_edditing.py"
   ]
  },
  {
   "cell_type": "code",
   "execution_count": 2,
   "metadata": {
    "Collapsed": "false"
   },
   "outputs": [],
   "source": [
    "test_data = pd.read_csv('../../data/Experimental/diamonds.csv', index_col='Unnamed: 0')\n"
   ]
  },
  {
   "cell_type": "code",
   "execution_count": 3,
   "metadata": {
    "Collapsed": "false"
   },
   "outputs": [],
   "source": [
    "x =pd.DataFrame()\n",
    "x['apples'] = test_data['color']+str('hg')\n",
    "x['bones'] = test_data['table']/2\n",
    "x['monkeys'] = test_data['x']+55"
   ]
  },
  {
   "cell_type": "markdown",
   "metadata": {
    "Collapsed": "false"
   },
   "source": [
    "## Detecting new columns"
   ]
  },
  {
   "cell_type": "code",
   "execution_count": 4,
   "metadata": {
    "Collapsed": "false"
   },
   "outputs": [
    {
     "data": {
      "text/plain": [
       "'C:\\\\Users\\\\ssv\\\\Documents\\\\python_scripts\\\\ssb\\\\SSVpytools\\\\notebooks\\\\experimental'"
      ]
     },
     "execution_count": 4,
     "metadata": {},
     "output_type": "execute_result"
    }
   ],
   "source": [
    "%pwd"
   ]
  },
  {
   "cell_type": "code",
   "execution_count": 4,
   "metadata": {
    "Collapsed": "false"
   },
   "outputs": [],
   "source": [
    "Logpath = 'testLog'\n"
   ]
  },
  {
   "cell_type": "code",
   "execution_count": 5,
   "metadata": {
    "Collapsed": "false"
   },
   "outputs": [
    {
     "name": "stdout",
     "output_type": "stream",
     "text": [
      "These Datasets have the following common columns:\n",
      "These columns exist only in the first dataset:\n",
      "*  y\n",
      "*  x\n",
      "*  depth\n",
      "*  clarity\n",
      "*  table\n",
      "*  carat\n",
      "*  z\n",
      "*  price\n",
      "*  color\n",
      "*  cut\n",
      "These columns exist only in the second datasett:\n",
      "*  apples\n",
      "*  bones\n",
      "*  monkeys\n"
     ]
    }
   ],
   "source": [
    "ColumnComparison(test_data, x, output = 'yes', log = Logpath)"
   ]
  },
  {
   "cell_type": "markdown",
   "metadata": {
    "Collapsed": "false"
   },
   "source": [
    "## Manuell corrections detection"
   ]
  },
  {
   "cell_type": "code",
   "execution_count": 6,
   "metadata": {
    "Collapsed": "false"
   },
   "outputs": [],
   "source": [
    "corrections = {'Premium': 'Awsome'}\n",
    "test_data2 = test_data.replace(corrections)"
   ]
  },
  {
   "cell_type": "code",
   "execution_count": 7,
   "metadata": {
    "Collapsed": "false"
   },
   "outputs": [
    {
     "data": {
      "text/plain": [
       "False"
      ]
     },
     "execution_count": 7,
     "metadata": {},
     "output_type": "execute_result"
    }
   ],
   "source": [
    "test_data.equals(test_data2)"
   ]
  },
  {
   "cell_type": "code",
   "execution_count": 8,
   "metadata": {
    "Collapsed": "false"
   },
   "outputs": [
    {
     "name": "stdout",
     "output_type": "stream",
     "text": [
      "Differences detected\n",
      "Column  cut  is changed!\n",
      "7  Changes detected\n",
      "\n",
      "Change nr:  1\n",
      "Changes:  2  0.21  Awsome  E  SI1  59.8  61.0  326  3.89  3.84  2.31\n",
      "Original:  2  0.21  Premium  E  SI1  59.8  61.0  326  3.89  3.84  2.31\n",
      "\n",
      "Change nr:  2\n",
      "Changes:  4  0.29  Awsome  I  VS2  62.4  58.0  334  4.2  4.23  2.63\n",
      "Original:  4  0.29  Premium  I  VS2  62.4  58.0  334  4.2  4.23  2.63\n",
      "\n",
      "Change nr:  3\n",
      "Changes:  13  0.22  Awsome  F  SI1  60.4  61.0  342  3.88  3.84  2.33\n",
      "Original:  13  0.22  Premium  F  SI1  60.4  61.0  342  3.88  3.84  2.33\n",
      "\n",
      "Change nr:  4\n",
      "Changes:  15  0.2  Awsome  E  SI2  60.2  62.0  345  3.79  3.75  2.27\n",
      "Original:  15  0.2  Premium  E  SI2  60.2  62.0  345  3.79  3.75  2.27\n",
      "\n",
      "Change nr:  5\n",
      "Changes:  16  0.32  Awsome  E  I1  60.9  58.0  345  4.38  4.42  2.68\n",
      "Original:  16  0.32  Premium  E  I1  60.9  58.0  345  4.38  4.42  2.68\n",
      "\n",
      "Change nr:  6\n",
      "Changes:  27  0.24  Awsome  I  VS1  62.5  57.0  355  3.97  3.94  2.47\n",
      "Original:  27  0.24  Premium  I  VS1  62.5  57.0  355  3.97  3.94  2.47\n",
      "\n",
      "Change nr:  7\n",
      "Changes:  46  0.29  Awsome  F  SI1  62.4  58.0  403  4.24  4.26  2.65\n",
      "Original:  46  0.29  Premium  F  SI1  62.4  58.0  403  4.24  4.26  2.65\n"
     ]
    }
   ],
   "source": [
    "\n",
    "correctionDetection(test_data[:50], test_data2[:50], log = Logpath)"
   ]
  },
  {
   "cell_type": "code",
   "execution_count": 9,
   "metadata": {
    "Collapsed": "false"
   },
   "outputs": [],
   "source": [
    "test_df=test_data[:50].reset_index().rename({'index':'recno'}, axis=1)\n",
    "test_df['recno'] = str(test_df['recno'])"
   ]
  },
  {
   "cell_type": "markdown",
   "metadata": {
    "Collapsed": "false"
   },
   "source": [
    "## Manuall changer with logger"
   ]
  },
  {
   "cell_type": "code",
   "execution_count": 11,
   "metadata": {
    "Collapsed": "false"
   },
   "outputs": [],
   "source": [
    "Log=[]"
   ]
  },
  {
   "cell_type": "code",
   "execution_count": 12,
   "metadata": {
    "Collapsed": "false"
   },
   "outputs": [
    {
     "name": "stdin",
     "output_type": "stream",
     "text": [
      "Enter username ssv\n",
      "How many changes do you want to make?: 1\n"
     ]
    },
    {
     "name": "stdout",
     "output_type": "stream",
     "text": [
      "Change nr:  1\n"
     ]
    },
    {
     "name": "stdin",
     "output_type": "stream",
     "text": [
      "Enter what column you want to change: color\n",
      "Enter row identificator for the value you want to change: cut\n",
      "Enter reason for change: testing\n"
     ]
    },
    {
     "name": "stdout",
     "output_type": "stream",
     "text": [
      "No value found, retry\n"
     ]
    }
   ],
   "source": [
    "data, log = manualEdditing(test_df, 'color')"
   ]
  },
  {
   "cell_type": "code",
   "execution_count": 15,
   "metadata": {
    "Collapsed": "false"
   },
   "outputs": [
    {
     "name": "stdout",
     "output_type": "stream",
     "text": [
      "{}\n"
     ]
    }
   ],
   "source": [
    "print(log)"
   ]
  },
  {
   "cell_type": "code",
   "execution_count": 16,
   "metadata": {
    "Collapsed": "false"
   },
   "outputs": [
    {
     "ename": "NameError",
     "evalue": "name 'df' is not defined",
     "output_type": "error",
     "traceback": [
      "\u001b[1;31m---------------------------------------------------------------------------\u001b[0m",
      "\u001b[1;31mNameError\u001b[0m                                 Traceback (most recent call last)",
      "\u001b[1;32m<ipython-input-16-407d309ed8ce>\u001b[0m in \u001b[0;36m<module>\u001b[1;34m\u001b[0m\n\u001b[1;32m----> 1\u001b[1;33m \u001b[0mdf\u001b[0m\u001b[1;33m.\u001b[0m\u001b[0mloc\u001b[0m\u001b[1;33m[\u001b[0m\u001b[0mdf\u001b[0m\u001b[1;33m[\u001b[0m\u001b[0mid_column\u001b[0m\u001b[1;33m]\u001b[0m\u001b[1;33m==\u001b[0m\u001b[0mrow_identifier\u001b[0m\u001b[1;33m,\u001b[0m \u001b[0mcol\u001b[0m\u001b[1;33m]\u001b[0m\u001b[1;33m\u001b[0m\u001b[1;33m\u001b[0m\u001b[0m\n\u001b[0m",
      "\u001b[1;31mNameError\u001b[0m: name 'df' is not defined"
     ]
    }
   ],
   "source": [
    "df.loc[df[id_column]==row_identifier, col]"
   ]
  },
  {
   "cell_type": "code",
   "execution_count": 32,
   "metadata": {
    "Collapsed": "false"
   },
   "outputs": [
    {
     "ename": "NameError",
     "evalue": "name 'original' is not defined",
     "output_type": "error",
     "traceback": [
      "\u001b[1;31m---------------------------------------------------------------------------\u001b[0m",
      "\u001b[1;31mNameError\u001b[0m                                 Traceback (most recent call last)",
      "\u001b[1;32m<ipython-input-32-c9e870f04c9a>\u001b[0m in \u001b[0;36m<module>\u001b[1;34m\u001b[0m\n\u001b[1;32m----> 1\u001b[1;33m \u001b[0moriginal\u001b[0m\u001b[1;33m\u001b[0m\u001b[1;33m\u001b[0m\u001b[0m\n\u001b[0m",
      "\u001b[1;31mNameError\u001b[0m: name 'original' is not defined"
     ]
    }
   ],
   "source": [
    "original"
   ]
  },
  {
   "cell_type": "code",
   "execution_count": 50,
   "metadata": {
    "Collapsed": "false"
   },
   "outputs": [],
   "source": [
    "col = 'cut'\n",
    "row_identifier = 5\n",
    "original = 'd55'\n",
    "new_value = 'ij'\n",
    "Reson = 'testing'\n",
    "id_column = 'index'\n",
    "df=test_data\n",
    "user = 'ssv'\n",
    "timestr = time.strftime(\"%Y%m%d%M%S\")"
   ]
  },
  {
   "cell_type": "code",
   "execution_count": 57,
   "metadata": {
    "Collapsed": "false"
   },
   "outputs": [
    {
     "name": "stderr",
     "output_type": "stream",
     "text": [
      "IOPub data rate exceeded.\n",
      "The notebook server will temporarily stop sending output\n",
      "to the client in order to avoid crashing it.\n",
      "To change this limit, set the config variable\n",
      "`--NotebookApp.iopub_data_rate_limit`.\n",
      "\n",
      "Current values:\n",
      "NotebookApp.iopub_data_rate_limit=1000000.0 (bytes/sec)\n",
      "NotebookApp.rate_limit_window=3.0 (secs)\n",
      "\n"
     ]
    }
   ],
   "source": [
    "change_log = {}\n",
    "c = [id_column, row_identifier, col, original, new_value, Reson ]\n",
    "change_log[user+timestr]= c\n",
    "print(change_log)"
   ]
  },
  {
   "cell_type": "code",
   "execution_count": 12,
   "metadata": {
    "Collapsed": "false"
   },
   "outputs": [],
   "source": [
    "df.loc[df[str(id_column)]==row_identifier, col] = new_value"
   ]
  },
  {
   "cell_type": "code",
   "execution_count": 13,
   "metadata": {
    "Collapsed": "false"
   },
   "outputs": [
    {
     "data": {
      "text/plain": [
       "5    Very Good\n",
       "Name: cut, dtype: object"
      ]
     },
     "execution_count": 13,
     "metadata": {},
     "output_type": "execute_result"
    }
   ],
   "source": [
    "test_data.loc[test_data.index==row_identifier][col]"
   ]
  },
  {
   "cell_type": "code",
   "execution_count": 79,
   "metadata": {
    "Collapsed": "false"
   },
   "outputs": [],
   "source": [
    "test_data.loc[test_data.index==row_identifier, col] = new_value"
   ]
  },
  {
   "cell_type": "code",
   "execution_count": null,
   "metadata": {
    "Collapsed": "false"
   },
   "outputs": [],
   "source": [
    "def ChangeColumnValues(dataset, columnValues):\n",
    "    \"\"\"Changes the values of given columns into the given key value pairs\n",
    "\n",
    "    :: Argument Description ::\n",
    "    dataset - Dataset for which the values are to be updated\n",
    "    columnValues - Dictionary with Column and Value-Replacement pair\n",
    "    \"\"\"\n",
    "\n",
    "    for column, valuePair in columnValues.items():\n",
    "        for value, replacement in valuePair.items():\n",
    "            dataset.loc[dataset[column] == value, column] = replacement\n",
    "\n",
    "    return dataset"
   ]
  },
  {
   "cell_type": "markdown",
   "metadata": {
    "Collapsed": "false"
   },
   "source": [
    "## Merge loggs\n",
    "\n",
    "Datasett that are merged together, SAS giveds information on the merge how it is performed and "
   ]
  },
  {
   "cell_type": "code",
   "execution_count": 19,
   "metadata": {
    "Collapsed": "false"
   },
   "outputs": [
    {
     "data": {
      "text/html": [
       "<div>\n",
       "<style scoped>\n",
       "    .dataframe tbody tr th:only-of-type {\n",
       "        vertical-align: middle;\n",
       "    }\n",
       "\n",
       "    .dataframe tbody tr th {\n",
       "        vertical-align: top;\n",
       "    }\n",
       "\n",
       "    .dataframe thead th {\n",
       "        text-align: right;\n",
       "    }\n",
       "</style>\n",
       "<table border=\"1\" class=\"dataframe\">\n",
       "  <thead>\n",
       "    <tr style=\"text-align: right;\">\n",
       "      <th></th>\n",
       "      <th>id</th>\n",
       "      <th>a</th>\n",
       "      <th>b</th>\n",
       "      <th>c</th>\n",
       "      <th>d</th>\n",
       "    </tr>\n",
       "  </thead>\n",
       "  <tbody>\n",
       "    <tr>\n",
       "      <th>0</th>\n",
       "      <td>1</td>\n",
       "      <td>0.2</td>\n",
       "      <td>0.1</td>\n",
       "      <td>0.2</td>\n",
       "      <td>0.5</td>\n",
       "    </tr>\n",
       "    <tr>\n",
       "      <th>1</th>\n",
       "      <td>2</td>\n",
       "      <td>0.2</td>\n",
       "      <td>0.3</td>\n",
       "      <td>0.3</td>\n",
       "      <td>0.2</td>\n",
       "    </tr>\n",
       "    <tr>\n",
       "      <th>2</th>\n",
       "      <td>3</td>\n",
       "      <td>0.4</td>\n",
       "      <td>0.2</td>\n",
       "      <td>0.1</td>\n",
       "      <td>0.3</td>\n",
       "    </tr>\n",
       "    <tr>\n",
       "      <th>3</th>\n",
       "      <td>4</td>\n",
       "      <td>0.2</td>\n",
       "      <td>0.4</td>\n",
       "      <td>0.4</td>\n",
       "      <td>0.0</td>\n",
       "    </tr>\n",
       "  </tbody>\n",
       "</table>\n",
       "</div>"
      ],
      "text/plain": [
       "  id    a    b    c    d\n",
       "0  1  0.2  0.1  0.2  0.5\n",
       "1  2  0.2  0.3  0.3  0.2\n",
       "2  3  0.4  0.2  0.1  0.3\n",
       "3  4  0.2  0.4  0.4  0.0"
      ]
     },
     "execution_count": 19,
     "metadata": {},
     "output_type": "execute_result"
    }
   ],
   "source": [
    "test_df1 = pd.DataFrame(np.array([['1', 0.2, 0.1, 0.2, 0.5],\n",
    "                                 ['2', 0.2, 0.3, 0.3, 0.2],\n",
    "                                 ['3', 0.4, 0.2, 0.1, 0.3],\n",
    "                                 ['4', 0.2, 0.4, 0.4, 0.0]]),\n",
    "                       columns = ['id','a', 'b', 'c', 'd']\n",
    "                      )\n",
    "test_df1.head()"
   ]
  },
  {
   "cell_type": "code",
   "execution_count": null,
   "metadata": {
    "Collapsed": "false"
   },
   "outputs": [],
   "source": [
    "test_df2 = pd.DataFrame(np.array([['1', 88, 748, 876, 84],\n",
    "                                 ['2', 84, 0.8746, 946, 84],\n",
    "                                 ['5', 11, 486, 966, 846],\n",
    "                                 ['6', 54, 0, 8432, 486]]),\n",
    "                       columns = ['id','a', 'b', 'c', 'd']\n",
    "                      )\n",
    "test_df2.head()"
   ]
  }
 ],
 "metadata": {
  "kernelspec": {
   "display_name": "Python 3",
   "language": "python",
   "name": "python3"
  },
  "language_info": {
   "codemirror_mode": {
    "name": "ipython",
    "version": 3
   },
   "file_extension": ".py",
   "mimetype": "text/x-python",
   "name": "python",
   "nbconvert_exporter": "python",
   "pygments_lexer": "ipython3",
   "version": "3.7.4"
  }
 },
 "nbformat": 4,
 "nbformat_minor": 4
}
