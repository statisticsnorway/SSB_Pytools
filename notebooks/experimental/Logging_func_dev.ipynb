{
 "cells": [
  {
   "cell_type": "markdown",
   "metadata": {
    "Collapsed": "false"
   },
   "source": [
    "# Development of Logging and quality data functions.\n",
    "By Simen Svenkerud\n",
    "\n",
    "AS "
   ]
  },
  {
   "cell_type": "code",
   "execution_count": 1,
   "metadata": {
    "Collapsed": "false"
   },
   "outputs": [
    {
     "name": "stderr",
     "output_type": "stream",
     "text": [
      "C:\\Users\\ssv\\AppData\\Local\\Continuum\\anaconda3\\envs\\Main\\lib\\site-packages\\sklearn\\externals\\joblib\\__init__.py:15: DeprecationWarning: sklearn.externals.joblib is deprecated in 0.21 and will be removed in 0.23. Please import this functionality directly from joblib, which can be installed with: pip install joblib. If this warning is raised when loading pickled models, you may need to re-serialize those models with scikit-learn 0.21+.\n",
      "  warnings.warn(msg, category=DeprecationWarning)\n"
     ]
    }
   ],
   "source": [
    "%run ../../utils/Imports.py"
   ]
  },
  {
   "cell_type": "code",
   "execution_count": 2,
   "metadata": {
    "Collapsed": "false"
   },
   "outputs": [],
   "source": [
    "test_data = pd.read_csv('../../data/Experimental/diamonds.csv')\n"
   ]
  },
  {
   "cell_type": "code",
   "execution_count": 8,
   "metadata": {
    "Collapsed": "false"
   },
   "outputs": [],
   "source": [
    "x =pd.DataFrame()\n",
    "x['apples'] = test_data['color']+str('hg')\n",
    "x['bones'] = test_data['table']/2\n",
    "x['monkeys'] = test_data['x']+55"
   ]
  },
  {
   "cell_type": "markdown",
   "metadata": {
    "Collapsed": "false"
   },
   "source": [
    "## Detecting new columns"
   ]
  },
  {
   "cell_type": "code",
   "execution_count": 38,
   "metadata": {
    "Collapsed": "false"
   },
   "outputs": [
    {
     "name": "stdout",
     "output_type": "stream",
     "text": [
      "These Datasets have the following common columns:\n",
      "*  bones\n",
      "*  monkeys\n",
      "*  apples\n",
      "These columns exist only in the secon datasett:\n",
      "*  x\n",
      "*  depth\n",
      "*  carat\n",
      "*  price\n",
      "*  color\n",
      "*  table\n",
      "*  clarity\n",
      "*  y\n",
      "*  cut\n",
      "*  z\n",
      "*  Unnamed: 0\n"
     ]
    }
   ],
   "source": [
    "df_start = test_data\n",
    "df_new = x\n",
    "\n",
    "def ColumnComparison (data_set1, data_set2,)\n",
    "    a = set(data_set1.columns)\n",
    "    b = set(data_set2.columns)\n",
    "    if (a & b):    \n",
    "        print('These Datasets have the following common columns:')\n",
    "        for elem in (a & b):\n",
    "            print('* ', elem)\n",
    "\n",
    "    if (a-b):\n",
    "        print('These columns exist only in the first dataset:')\n",
    "        for elem in (a-b):\n",
    "            print('* ', elem)\n",
    "\n",
    "    if (b-a):\n",
    "        print('These columns exist only in the second datasett:')\n",
    "        for elem in (b - a):\n",
    "            print('* ', elem)"
   ]
  },
  {
   "cell_type": "code",
   "execution_count": null,
   "metadata": {
    "Collapsed": "false"
   },
   "outputs": [],
   "source": []
  }
 ],
 "metadata": {
  "kernelspec": {
   "display_name": "Python 3",
   "language": "python",
   "name": "python3"
  },
  "language_info": {
   "codemirror_mode": {
    "name": "ipython",
    "version": 3
   },
   "file_extension": ".py",
   "mimetype": "text/x-python",
   "name": "python",
   "nbconvert_exporter": "python",
   "pygments_lexer": "ipython3",
   "version": "3.7.4"
  }
 },
 "nbformat": 4,
 "nbformat_minor": 4
}
