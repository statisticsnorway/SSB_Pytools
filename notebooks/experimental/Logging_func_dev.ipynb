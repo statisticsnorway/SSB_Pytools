{
 "cells": [
  {
   "cell_type": "markdown",
   "metadata": {
    "Collapsed": "false"
   },
   "source": [
    "# Development of Logging and quality data functions.\n",
    "By Simen Svenkerud\n",
    "\n",
    "AS "
   ]
  },
  {
   "cell_type": "code",
   "execution_count": 1,
   "metadata": {
    "Collapsed": "false"
   },
   "outputs": [
    {
     "name": "stderr",
     "output_type": "stream",
     "text": [
      "C:\\Users\\ssv\\AppData\\Local\\Continuum\\anaconda3\\envs\\Main\\lib\\site-packages\\sklearn\\externals\\joblib\\__init__.py:15: DeprecationWarning: sklearn.externals.joblib is deprecated in 0.21 and will be removed in 0.23. Please import this functionality directly from joblib, which can be installed with: pip install joblib. If this warning is raised when loading pickled models, you may need to re-serialize those models with scikit-learn 0.21+.\n",
      "  warnings.warn(msg, category=DeprecationWarning)\n"
     ]
    }
   ],
   "source": [
    "%run ../../utils/Imports.py"
   ]
  },
  {
   "cell_type": "code",
   "execution_count": 19,
   "metadata": {
    "Collapsed": "false"
   },
   "outputs": [],
   "source": [
    "test_data = pd.read_csv('../../data/Experimental/diamonds.csv', index_col='Unnamed: 0')\n"
   ]
  },
  {
   "cell_type": "code",
   "execution_count": 3,
   "metadata": {
    "Collapsed": "false"
   },
   "outputs": [],
   "source": [
    "x =pd.DataFrame()\n",
    "x['apples'] = test_data['color']+str('hg')\n",
    "x['bones'] = test_data['table']/2\n",
    "x['monkeys'] = test_data['x']+55"
   ]
  },
  {
   "cell_type": "markdown",
   "metadata": {
    "Collapsed": "false"
   },
   "source": [
    "## Detecting new columns"
   ]
  },
  {
   "cell_type": "code",
   "execution_count": 4,
   "metadata": {
    "Collapsed": "false"
   },
   "outputs": [
    {
     "data": {
      "text/plain": [
       "'C:\\\\Users\\\\ssv\\\\Documents\\\\python_scripts\\\\ssb\\\\SSVpytools\\\\notebooks\\\\experimental'"
      ]
     },
     "execution_count": 4,
     "metadata": {},
     "output_type": "execute_result"
    }
   ],
   "source": [
    "%pwd"
   ]
  },
  {
   "cell_type": "code",
   "execution_count": null,
   "metadata": {
    "Collapsed": "false"
   },
   "outputs": [],
   "source": []
  },
  {
   "cell_type": "code",
   "execution_count": 5,
   "metadata": {
    "Collapsed": "false"
   },
   "outputs": [],
   "source": [
    "Logpath = 'testLog'\n"
   ]
  },
  {
   "cell_type": "code",
   "execution_count": 12,
   "metadata": {
    "Collapsed": "false"
   },
   "outputs": [
    {
     "name": "stdout",
     "output_type": "stream",
     "text": [
      "No output printed to screen\n"
     ]
    }
   ],
   "source": [
    "\n",
    "ColumnComparison(test_data, x, output = 'no')"
   ]
  },
  {
   "cell_type": "code",
   "execution_count": 15,
   "metadata": {
    "Collapsed": "false"
   },
   "outputs": [
    {
     "data": {
      "text/html": [
       "<div>\n",
       "<style scoped>\n",
       "    .dataframe tbody tr th:only-of-type {\n",
       "        vertical-align: middle;\n",
       "    }\n",
       "\n",
       "    .dataframe tbody tr th {\n",
       "        vertical-align: top;\n",
       "    }\n",
       "\n",
       "    .dataframe thead th {\n",
       "        text-align: right;\n",
       "    }\n",
       "</style>\n",
       "<table border=\"1\" class=\"dataframe\">\n",
       "  <thead>\n",
       "    <tr style=\"text-align: right;\">\n",
       "      <th></th>\n",
       "      <th>carat</th>\n",
       "      <th>cut</th>\n",
       "      <th>color</th>\n",
       "      <th>clarity</th>\n",
       "      <th>depth</th>\n",
       "      <th>table</th>\n",
       "      <th>price</th>\n",
       "      <th>x</th>\n",
       "      <th>y</th>\n",
       "      <th>z</th>\n",
       "    </tr>\n",
       "  </thead>\n",
       "  <tbody>\n",
       "    <tr>\n",
       "      <th>1</th>\n",
       "      <td>0.23</td>\n",
       "      <td>Ideal</td>\n",
       "      <td>E</td>\n",
       "      <td>SI2</td>\n",
       "      <td>61.5</td>\n",
       "      <td>55.0</td>\n",
       "      <td>326</td>\n",
       "      <td>3.95</td>\n",
       "      <td>3.98</td>\n",
       "      <td>2.43</td>\n",
       "    </tr>\n",
       "    <tr>\n",
       "      <th>2</th>\n",
       "      <td>0.21</td>\n",
       "      <td>Premium</td>\n",
       "      <td>E</td>\n",
       "      <td>SI1</td>\n",
       "      <td>59.8</td>\n",
       "      <td>61.0</td>\n",
       "      <td>326</td>\n",
       "      <td>3.89</td>\n",
       "      <td>3.84</td>\n",
       "      <td>2.31</td>\n",
       "    </tr>\n",
       "    <tr>\n",
       "      <th>3</th>\n",
       "      <td>0.23</td>\n",
       "      <td>Good</td>\n",
       "      <td>E</td>\n",
       "      <td>VS1</td>\n",
       "      <td>56.9</td>\n",
       "      <td>65.0</td>\n",
       "      <td>327</td>\n",
       "      <td>4.05</td>\n",
       "      <td>4.07</td>\n",
       "      <td>2.31</td>\n",
       "    </tr>\n",
       "    <tr>\n",
       "      <th>4</th>\n",
       "      <td>0.29</td>\n",
       "      <td>Premium</td>\n",
       "      <td>I</td>\n",
       "      <td>VS2</td>\n",
       "      <td>62.4</td>\n",
       "      <td>58.0</td>\n",
       "      <td>334</td>\n",
       "      <td>4.20</td>\n",
       "      <td>4.23</td>\n",
       "      <td>2.63</td>\n",
       "    </tr>\n",
       "    <tr>\n",
       "      <th>5</th>\n",
       "      <td>0.31</td>\n",
       "      <td>Good</td>\n",
       "      <td>J</td>\n",
       "      <td>SI2</td>\n",
       "      <td>63.3</td>\n",
       "      <td>58.0</td>\n",
       "      <td>335</td>\n",
       "      <td>4.34</td>\n",
       "      <td>4.35</td>\n",
       "      <td>2.75</td>\n",
       "    </tr>\n",
       "  </tbody>\n",
       "</table>\n",
       "</div>"
      ],
      "text/plain": [
       "   carat      cut color clarity  depth  table  price     x     y     z\n",
       "1   0.23    Ideal     E     SI2   61.5   55.0    326  3.95  3.98  2.43\n",
       "2   0.21  Premium     E     SI1   59.8   61.0    326  3.89  3.84  2.31\n",
       "3   0.23     Good     E     VS1   56.9   65.0    327  4.05  4.07  2.31\n",
       "4   0.29  Premium     I     VS2   62.4   58.0    334  4.20  4.23  2.63\n",
       "5   0.31     Good     J     SI2   63.3   58.0    335  4.34  4.35  2.75"
      ]
     },
     "execution_count": 15,
     "metadata": {},
     "output_type": "execute_result"
    }
   ],
   "source": [
    "test_data.head()"
   ]
  },
  {
   "cell_type": "markdown",
   "metadata": {
    "Collapsed": "false"
   },
   "source": [
    "## Manuell corrections detection"
   ]
  },
  {
   "cell_type": "code",
   "execution_count": 20,
   "metadata": {
    "Collapsed": "false"
   },
   "outputs": [],
   "source": [
    "corrections = {'Premium': 'Awsome'}\n",
    "test_data2 = test_data.replace(corrections)"
   ]
  },
  {
   "cell_type": "code",
   "execution_count": 23,
   "metadata": {
    "Collapsed": "false"
   },
   "outputs": [
    {
     "data": {
      "text/plain": [
       "False"
      ]
     },
     "execution_count": 23,
     "metadata": {},
     "output_type": "execute_result"
    }
   ],
   "source": [
    "test_data.equals(test_data2)"
   ]
  },
  {
   "cell_type": "code",
   "execution_count": 112,
   "metadata": {
    "Collapsed": "false"
   },
   "outputs": [
    {
     "name": "stdout",
     "output_type": "stream",
     "text": [
      "Differences detected\n",
      "Column  cut  is changed!\n",
      "7  Changes detected\n",
      "\n",
      "Change nr:  1\n",
      "Changes:  2  0.21  Awsome  E  SI1  59.8  61.0  326  3.89  3.84  2.31\n",
      "Original:  2  0.21  Premium  E  SI1  59.8  61.0  326  3.89  3.84  2.31\n",
      "\n",
      "Change nr:  2\n",
      "Changes:  4  0.29  Awsome  I  VS2  62.4  58.0  334  4.2  4.23  2.63\n",
      "Original:  4  0.29  Premium  I  VS2  62.4  58.0  334  4.2  4.23  2.63\n",
      "\n",
      "Change nr:  3\n",
      "Changes:  13  0.22  Awsome  F  SI1  60.4  61.0  342  3.88  3.84  2.33\n",
      "Original:  13  0.22  Premium  F  SI1  60.4  61.0  342  3.88  3.84  2.33\n",
      "\n",
      "Change nr:  4\n",
      "Changes:  15  0.2  Awsome  E  SI2  60.2  62.0  345  3.79  3.75  2.27\n",
      "Original:  15  0.2  Premium  E  SI2  60.2  62.0  345  3.79  3.75  2.27\n",
      "\n",
      "Change nr:  5\n",
      "Changes:  16  0.32  Awsome  E  I1  60.9  58.0  345  4.38  4.42  2.68\n",
      "Original:  16  0.32  Premium  E  I1  60.9  58.0  345  4.38  4.42  2.68\n",
      "\n",
      "Change nr:  6\n",
      "Changes:  27  0.24  Awsome  I  VS1  62.5  57.0  355  3.97  3.94  2.47\n",
      "Original:  27  0.24  Premium  I  VS1  62.5  57.0  355  3.97  3.94  2.47\n",
      "\n",
      "Change nr:  7\n",
      "Changes:  46  0.29  Awsome  F  SI1  62.4  58.0  403  4.24  4.26  2.65\n",
      "Original:  46  0.29  Premium  F  SI1  62.4  58.0  403  4.24  4.26  2.65\n"
     ]
    }
   ],
   "source": [
    "%run ../../utils/logging_quality/logging.py\n",
    "correctionDetection(test_data[:50], test_data2[:50], log = Logpath)"
   ]
  },
  {
   "cell_type": "code",
   "execution_count": 39,
   "metadata": {
    "Collapsed": "false"
   },
   "outputs": [],
   "source": [
    "start_data = test_data[:10]\n",
    "comparison_data = test_data2[:10]"
   ]
  },
  {
   "cell_type": "code",
   "execution_count": 100,
   "metadata": {
    "Collapsed": "false"
   },
   "outputs": [
    {
     "name": "stdout",
     "output_type": "stream",
     "text": [
      "Column  cut  is changed!\n",
      "\n",
      "Change nr:  0\n",
      "Changes:  2  0.21  Awsome  E  SI1  59.8  61.0  326  3.89  3.84  2.31\n",
      "Original:  2  0.21  Premium  E  SI1  59.8  61.0  326  3.89  3.84  2.31\n",
      "\n",
      "Change nr:  1\n",
      "Changes:  4  0.29  Awsome  I  VS2  62.4  58.0  334  4.2  4.23  2.63\n",
      "Original:  4  0.29  Premium  I  VS2  62.4  58.0  334  4.2  4.23  2.63\n"
     ]
    }
   ],
   "source": [
    "diff = start_data != comparison_data\n",
    "for col in comparison_data.columns:\n",
    "    changes = comparison_data.loc[diff[col]]\n",
    "    original = start_data.loc[diff[col]]\n",
    "    if len(changes) > 1:\n",
    "        print('Column ',str(col),' is changed!')\n",
    "        for i in changes.reset_index().index:\n",
    "            print('\\nChange nr: ',i)\n",
    "            print('Changes: ',changes.iloc[[i]].to_string(header=False))\n",
    "            print('Original: ',original.iloc[[i]].to_string(header=False))"
   ]
  },
  {
   "cell_type": "code",
   "execution_count": 117,
   "metadata": {
    "Collapsed": "false"
   },
   "outputs": [
    {
     "ename": "SyntaxError",
     "evalue": "invalid syntax (<ipython-input-117-96d3df42155b>, line 1)",
     "output_type": "error",
     "traceback": [
      "\u001b[1;36m  File \u001b[1;32m\"<ipython-input-117-96d3df42155b>\"\u001b[1;36m, line \u001b[1;32m1\u001b[0m\n\u001b[1;33m    def input_test(input()):\u001b[0m\n\u001b[1;37m                        ^\u001b[0m\n\u001b[1;31mSyntaxError\u001b[0m\u001b[1;31m:\u001b[0m invalid syntax\n"
     ]
    }
   ],
   "source": [
    "def input_test(input()):\n",
    "    print(test)"
   ]
  },
  {
   "cell_type": "code",
   "execution_count": 119,
   "metadata": {
    "Collapsed": "false"
   },
   "outputs": [
    {
     "name": "stdin",
     "output_type": "stream",
     "text": [
      "Enter identificator for the value you want to change 4885\n",
      "Enter the new value 15\n",
      "Enter reason for change testing\n"
     ]
    }
   ],
   "source": [
    "identifier = input('Enter identificator for the value you want to change:')\n",
    "new_value = input('Enter the new value:')\n",
    "Reson = input('Enter reason for change:')"
   ]
  },
  {
   "cell_type": "code",
   "execution_count": null,
   "metadata": {
    "Collapsed": "false"
   },
   "outputs": [],
   "source": []
  }
 ],
 "metadata": {
  "kernelspec": {
   "display_name": "Python 3",
   "language": "python",
   "name": "python3"
  },
  "language_info": {
   "codemirror_mode": {
    "name": "ipython",
    "version": 3
   },
   "file_extension": ".py",
   "mimetype": "text/x-python",
   "name": "python",
   "nbconvert_exporter": "python",
   "pygments_lexer": "ipython3",
   "version": "3.7.4"
  }
 },
 "nbformat": 4,
 "nbformat_minor": 4
}
