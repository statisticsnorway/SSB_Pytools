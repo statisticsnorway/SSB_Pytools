{
 "cells": [
  {
   "cell_type": "markdown",
   "metadata": {
    "Collapsed": "false"
   },
   "source": [
    "# Development of Logging and quality data functions.\n",
    "By Simen Svenkerud\n",
    "\n",
    "AS "
   ]
  },
  {
   "cell_type": "code",
   "execution_count": 115,
   "metadata": {
    "Collapsed": "false"
   },
   "outputs": [],
   "source": [
    "%run ../../utils/Imports.py\n",
    "%run ../../utils/logging_quality/logging.py"
   ]
  },
  {
   "cell_type": "code",
   "execution_count": 26,
   "metadata": {
    "Collapsed": "false"
   },
   "outputs": [],
   "source": [
    "test_data = pd.read_csv('../../data/Experimental/diamonds.csv', index_col='Unnamed: 0')\n"
   ]
  },
  {
   "cell_type": "code",
   "execution_count": 3,
   "metadata": {
    "Collapsed": "false"
   },
   "outputs": [],
   "source": [
    "x =pd.DataFrame()\n",
    "x['apples'] = test_data['color']+str('hg')\n",
    "x['bones'] = test_data['table']/2\n",
    "x['monkeys'] = test_data['x']+55"
   ]
  },
  {
   "cell_type": "markdown",
   "metadata": {
    "Collapsed": "false"
   },
   "source": [
    "## Detecting new columns"
   ]
  },
  {
   "cell_type": "code",
   "execution_count": 4,
   "metadata": {
    "Collapsed": "false"
   },
   "outputs": [
    {
     "data": {
      "text/plain": [
       "'C:\\\\Users\\\\ssv\\\\Documents\\\\python_scripts\\\\ssb\\\\SSVpytools\\\\notebooks\\\\experimental'"
      ]
     },
     "execution_count": 4,
     "metadata": {},
     "output_type": "execute_result"
    }
   ],
   "source": [
    "%pwd"
   ]
  },
  {
   "cell_type": "code",
   "execution_count": 4,
   "metadata": {
    "Collapsed": "false"
   },
   "outputs": [],
   "source": [
    "Logpath = 'testLog'\n"
   ]
  },
  {
   "cell_type": "code",
   "execution_count": 5,
   "metadata": {
    "Collapsed": "false"
   },
   "outputs": [
    {
     "name": "stdout",
     "output_type": "stream",
     "text": [
      "These Datasets have the following common columns:\n",
      "These columns exist only in the first dataset:\n",
      "*  cut\n",
      "*  price\n",
      "*  depth\n",
      "*  carat\n",
      "*  color\n",
      "*  z\n",
      "*  x\n",
      "*  table\n",
      "*  y\n",
      "*  clarity\n",
      "These columns exist only in the second datasett:\n",
      "*  apples\n",
      "*  monkeys\n",
      "*  bones\n"
     ]
    }
   ],
   "source": [
    "ColumnComparison(test_data, x, output = 'yes', log = Logpath)"
   ]
  },
  {
   "cell_type": "markdown",
   "metadata": {
    "Collapsed": "false"
   },
   "source": [
    "## Manuell corrections detection"
   ]
  },
  {
   "cell_type": "code",
   "execution_count": 7,
   "metadata": {
    "Collapsed": "false"
   },
   "outputs": [],
   "source": [
    "corrections = {'Premium': 'Awsome'}\n",
    "test_data2 = test_data.replace(corrections)"
   ]
  },
  {
   "cell_type": "code",
   "execution_count": null,
   "metadata": {
    "Collapsed": "false"
   },
   "outputs": [],
   "source": [
    "test_data.equals(test_data2)"
   ]
  },
  {
   "cell_type": "code",
   "execution_count": 6,
   "metadata": {
    "Collapsed": "false"
   },
   "outputs": [
    {
     "name": "stderr",
     "output_type": "stream",
     "text": [
      "ERROR:root:Internal Python error in the inspect module.\n",
      "Below is the traceback from this internal error.\n",
      "\n"
     ]
    },
    {
     "name": "stdout",
     "output_type": "stream",
     "text": [
      "Traceback (most recent call last):\n",
      "  File \"C:\\Users\\ssv\\AppData\\Local\\Continuum\\anaconda3\\lib\\site-packages\\IPython\\core\\interactiveshell.py\", line 3325, in run_code\n",
      "    exec(code_obj, self.user_global_ns, self.user_ns)\n",
      "  File \"<ipython-input-6-0dc6a9420434>\", line 1, in <module>\n",
      "    correctionDetection(test_data[:50], test_data2[:50], log = Logpath)\n",
      "NameError: name 'test_data2' is not defined\n",
      "\n",
      "During handling of the above exception, another exception occurred:\n",
      "\n",
      "Traceback (most recent call last):\n",
      "  File \"C:\\Users\\ssv\\AppData\\Local\\Continuum\\anaconda3\\lib\\site-packages\\IPython\\core\\interactiveshell.py\", line 2039, in showtraceback\n",
      "    stb = value._render_traceback_()\n",
      "AttributeError: 'NameError' object has no attribute '_render_traceback_'\n",
      "\n",
      "During handling of the above exception, another exception occurred:\n",
      "\n",
      "Traceback (most recent call last):\n",
      "  File \"C:\\Users\\ssv\\AppData\\Local\\Continuum\\anaconda3\\lib\\site-packages\\IPython\\core\\ultratb.py\", line 1101, in get_records\n",
      "    return _fixed_getinnerframes(etb, number_of_lines_of_context, tb_offset)\n",
      "  File \"C:\\Users\\ssv\\AppData\\Local\\Continuum\\anaconda3\\lib\\site-packages\\IPython\\core\\ultratb.py\", line 319, in wrapped\n",
      "    return f(*args, **kwargs)\n",
      "  File \"C:\\Users\\ssv\\AppData\\Local\\Continuum\\anaconda3\\lib\\site-packages\\IPython\\core\\ultratb.py\", line 353, in _fixed_getinnerframes\n",
      "    records = fix_frame_records_filenames(inspect.getinnerframes(etb, context))\n",
      "  File \"C:\\Users\\ssv\\AppData\\Local\\Continuum\\anaconda3\\lib\\inspect.py\", line 1502, in getinnerframes\n",
      "    frameinfo = (tb.tb_frame,) + getframeinfo(tb, context)\n",
      "  File \"C:\\Users\\ssv\\AppData\\Local\\Continuum\\anaconda3\\lib\\inspect.py\", line 1460, in getframeinfo\n",
      "    filename = getsourcefile(frame) or getfile(frame)\n",
      "  File \"C:\\Users\\ssv\\AppData\\Local\\Continuum\\anaconda3\\lib\\inspect.py\", line 696, in getsourcefile\n",
      "    if getattr(getmodule(object, filename), '__loader__', None) is not None:\n",
      "  File \"C:\\Users\\ssv\\AppData\\Local\\Continuum\\anaconda3\\lib\\inspect.py\", line 742, in getmodule\n",
      "    os.path.realpath(f)] = module.__name__\n",
      "AttributeError: module has no attribute '__name__'\n"
     ]
    },
    {
     "ename": "NameError",
     "evalue": "name 'test_data2' is not defined",
     "output_type": "error",
     "traceback": [
      "\u001b[1;31m---------------------------------------------------------------------------\u001b[0m"
     ]
    }
   ],
   "source": [
    "\n",
    "correctionDetection(test_data[:50], test_data2[:50], log = Logpath)"
   ]
  },
  {
   "cell_type": "code",
   "execution_count": 100,
   "metadata": {
    "Collapsed": "false"
   },
   "outputs": [],
   "source": [
    "test_df=test_data[:50].reset_index().rename({'index':'recno'}, axis=1)\n",
    "test_df['recno'] = str(test_df['recno'])"
   ]
  },
  {
   "cell_type": "markdown",
   "metadata": {
    "Collapsed": "false"
   },
   "source": [
    "## Manuall changer with logger"
   ]
  },
  {
   "cell_type": "code",
   "execution_count": null,
   "metadata": {
    "Collapsed": "false"
   },
   "outputs": [],
   "source": [
    " def manualEdditing(df, id_column):\n",
    "    user = input('Enter username')\n",
    "    n_changes = input('How many changes do you want to make?:')\n",
    "    change = 1\n",
    "    change_log = {}\n",
    "    while change <= int(n_changes):\n",
    "        timestr = time.strftime(\"%Y%m%d%H%M%S\")\n",
    "        print('Change nr: ',change)\n",
    "        col = input('Enter what column you want to change:')\n",
    "        row_identifier = input('Enter row identificator for the value you want to change:')\n",
    "        \n",
    "        Reason = input('Enter reason for change:')\n",
    "        change = change+1\n",
    "        original = df.loc[df[id_column]==row_identifier, col]\n",
    "        if len(original)>0:\n",
    "            print(original)\n",
    "        else:\n",
    "            print('No value found, retry')\n",
    "            break\n",
    "            \n",
    "        eddit = input('is this the value you want to change? y/n:')\n",
    "        \n",
    "        if eddit == 'y':\n",
    "            new_value = input('Enter the new value:')\n",
    "            df.loc[df[id_column]==row_identifier, col] = new_value\n",
    "            print(df.loc[df[id_column]==row_identifier, col])\n",
    "            c = [id_column, row_identifier, col, [str(original)], [new_value], Reason ]\n",
    "            change_log[user+timestr]= c\n",
    "        \n",
    "        elif eddit == 'n':\n",
    "            print('Pleas rerun funktion to restart edditing process')\n",
    "            break\n",
    "    return df, change_log"
   ]
  },
  {
   "cell_type": "code",
   "execution_count": 102,
   "metadata": {},
   "outputs": [],
   "source": [
    "Log=[]"
   ]
  },
  {
   "cell_type": "code",
   "execution_count": null,
   "metadata": {
    "Collapsed": "false"
   },
   "outputs": [
    {
     "name": "stdin",
     "output_type": "stream",
     "text": [
      "Enter username ssv\n",
      "How many changes do you want to make?: 1\n"
     ]
    },
    {
     "name": "stdout",
     "output_type": "stream",
     "text": [
      "Change nr:  1\n"
     ]
    },
    {
     "name": "stdin",
     "output_type": "stream",
     "text": [
      "Enter what column you want to change: cut\n",
      "Enter row identificator for the value you want to change: color\n",
      "Enter reason for change: testing\n"
     ]
    }
   ],
   "source": [
    "data, log = manualEdditing(test_df, 'color')"
   ]
  },
  {
   "cell_type": "code",
   "execution_count": 118,
   "metadata": {},
   "outputs": [
    {
     "name": "stdout",
     "output_type": "stream",
     "text": [
      "{'ssv20191205085904': ['color', 'G', 'color', ['25    G\\nName: color, dtype: object'], ['P'], 'testing']}\n"
     ]
    }
   ],
   "source": [
    "print(log)"
   ]
  },
  {
   "cell_type": "code",
   "execution_count": 31,
   "metadata": {},
   "outputs": [
    {
     "data": {
      "text/plain": [
       "4    ij\n",
       "Name: cut, dtype: object"
      ]
     },
     "execution_count": 31,
     "metadata": {},
     "output_type": "execute_result"
    }
   ],
   "source": [
    "df.loc[df[id_column]==row_identifier, col]"
   ]
  },
  {
   "cell_type": "code",
   "execution_count": 32,
   "metadata": {},
   "outputs": [
    {
     "ename": "NameError",
     "evalue": "name 'original' is not defined",
     "output_type": "error",
     "traceback": [
      "\u001b[1;31m---------------------------------------------------------------------------\u001b[0m",
      "\u001b[1;31mNameError\u001b[0m                                 Traceback (most recent call last)",
      "\u001b[1;32m<ipython-input-32-c9e870f04c9a>\u001b[0m in \u001b[0;36m<module>\u001b[1;34m\u001b[0m\n\u001b[1;32m----> 1\u001b[1;33m \u001b[0moriginal\u001b[0m\u001b[1;33m\u001b[0m\u001b[1;33m\u001b[0m\u001b[0m\n\u001b[0m",
      "\u001b[1;31mNameError\u001b[0m: name 'original' is not defined"
     ]
    }
   ],
   "source": [
    "original"
   ]
  },
  {
   "cell_type": "code",
   "execution_count": 50,
   "metadata": {
    "Collapsed": "false"
   },
   "outputs": [],
   "source": [
    "col = 'cut'\n",
    "row_identifier = 5\n",
    "original = 'd55'\n",
    "new_value = 'ij'\n",
    "Reson = 'testing'\n",
    "id_column = 'index'\n",
    "df=test_data\n",
    "user = 'ssv'\n",
    "timestr = time.strftime(\"%Y%m%d%M%S\")"
   ]
  },
  {
   "cell_type": "code",
   "execution_count": 57,
   "metadata": {},
   "outputs": [
    {
     "name": "stderr",
     "output_type": "stream",
     "text": [
      "IOPub data rate exceeded.\n",
      "The notebook server will temporarily stop sending output\n",
      "to the client in order to avoid crashing it.\n",
      "To change this limit, set the config variable\n",
      "`--NotebookApp.iopub_data_rate_limit`.\n",
      "\n",
      "Current values:\n",
      "NotebookApp.iopub_data_rate_limit=1000000.0 (bytes/sec)\n",
      "NotebookApp.rate_limit_window=3.0 (secs)\n",
      "\n"
     ]
    }
   ],
   "source": [
    "change_log = {}\n",
    "c = [id_column, row_identifier, col, original, new_value, Reson ]\n",
    "change_log[user+timestr]= c\n",
    "print(change_log)"
   ]
  },
  {
   "cell_type": "code",
   "execution_count": 12,
   "metadata": {},
   "outputs": [],
   "source": [
    "df.loc[df[str(id_column)]==row_identifier, col] = new_value"
   ]
  },
  {
   "cell_type": "code",
   "execution_count": 13,
   "metadata": {},
   "outputs": [
    {
     "data": {
      "text/plain": [
       "5    Very Good\n",
       "Name: cut, dtype: object"
      ]
     },
     "execution_count": 13,
     "metadata": {},
     "output_type": "execute_result"
    }
   ],
   "source": [
    "test_data.loc[test_data.index==row_identifier][col]"
   ]
  },
  {
   "cell_type": "code",
   "execution_count": 79,
   "metadata": {
    "Collapsed": "false"
   },
   "outputs": [],
   "source": [
    "test_data.loc[test_data.index==row_identifier, col] = new_value"
   ]
  },
  {
   "cell_type": "code",
   "execution_count": null,
   "metadata": {},
   "outputs": [],
   "source": [
    "def ChangeColumnValues(dataset, columnValues):\n",
    "    \"\"\"Changes the values of given columns into the given key value pairs\n",
    "\n",
    "    :: Argument Description ::\n",
    "    dataset - Dataset for which the values are to be updated\n",
    "    columnValues - Dictionary with Column and Value-Replacement pair\n",
    "    \"\"\"\n",
    "\n",
    "    for column, valuePair in columnValues.items():\n",
    "        for value, replacement in valuePair.items():\n",
    "            dataset.loc[dataset[column] == value, column] = replacement\n",
    "\n",
    "    return dataset"
   ]
  },
  {
   "cell_type": "code",
   "execution_count": null,
   "metadata": {},
   "outputs": [],
   "source": [
    "ef ChangeColumnValues(dataset, columnValues):\n",
    "    \"\"\"Changes the values of given columns into the given key value pairs\n",
    "\n",
    "    :: Argument Description ::\n",
    "    dataset - Dataset for which the values are to be updated\n",
    "    columnValues - Dictionary with Column and Value-Replacement pair\n",
    "    \"\"\"\n",
    "\n",
    "    for column, valuePair in columnValues.items():\n",
    "        for value, replacement in valuePair.items():\n",
    "            dataset.loc[str(dataset[column]) == value, column] = replacement\n",
    "\n",
    "    return dataset"
   ]
  }
 ],
 "metadata": {
  "kernelspec": {
   "display_name": "Python 3",
   "language": "python",
   "name": "python3"
  },
  "language_info": {
   "codemirror_mode": {
    "name": "ipython",
    "version": 3
   },
   "file_extension": ".py",
   "mimetype": "text/x-python",
   "name": "python",
   "nbconvert_exporter": "python",
   "pygments_lexer": "ipython3",
   "version": "3.7.3"
  }
 },
 "nbformat": 4,
 "nbformat_minor": 4
}
