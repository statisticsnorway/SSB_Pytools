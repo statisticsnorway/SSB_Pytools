{
 "cells": [
  {
   "cell_type": "code",
   "execution_count": 2,
   "metadata": {
    "Collapsed": "false",
    "ExecuteTime": {
     "end_time": "2019-11-29T08:33:33.689505Z",
     "start_time": "2019-11-29T08:33:31.250972Z"
    }
   },
   "outputs": [
    {
     "name": "stderr",
     "output_type": "stream",
     "text": [
      "C:\\Users\\ssv\\AppData\\Local\\Continuum\\anaconda3\\envs\\Main\\lib\\site-packages\\sklearn\\externals\\joblib\\__init__.py:15: DeprecationWarning: sklearn.externals.joblib is deprecated in 0.21 and will be removed in 0.23. Please import this functionality directly from joblib, which can be installed with: pip install joblib. If this warning is raised when loading pickled models, you may need to re-serialize those models with scikit-learn 0.21+.\n",
      "  warnings.warn(msg, category=DeprecationWarning)\n"
     ]
    }
   ],
   "source": [
    "%run ../../src/Imports.py\n",
    "%reload_ext autoreload\n",
    "%autoreload 2\n",
    "%matplotlib inline\n",
    "pd.set_option('display.max_columns', None)\n",
    "pd.set_option('display.max_rows', None)"
   ]
  },
  {
   "cell_type": "code",
   "execution_count": 36,
   "metadata": {
    "Collapsed": "false",
    "ExecuteTime": {
     "end_time": "2019-11-29T08:50:48.767938Z",
     "start_time": "2019-11-29T08:50:48.671158Z"
    }
   },
   "outputs": [],
   "source": [
    "testdata = ['0256', '1548', '125', 1036, 144, 1562.00, 843.00, '158.00', '1547.00']"
   ]
  },
  {
   "cell_type": "code",
   "execution_count": 46,
   "metadata": {
    "Collapsed": "false",
    "ExecuteTime": {
     "end_time": "2019-11-29T09:15:41.723883Z",
     "start_time": "2019-11-29T09:15:41.626130Z"
    }
   },
   "outputs": [],
   "source": [
    "def fixregionskode(col, region='kommune'):\n",
    "    '''\n",
    "    Function to correct the regional code in a given column\n",
    "    \n",
    "    This funtion takes a sereis as input. It converts to string variables. \n",
    "    Adds leading zeros where needed.\n",
    "    removes decimalpositions in strings\n",
    "    \n",
    "    :param col: the coloumn to perform the correction on\n",
    "    :type col: Str\n",
    "    :param region: type of regional code to return. Either kommune or fylke\n",
    "    :type region: Str, optional *Default: kommune*\n",
    "    '''\n",
    "    data = col\n",
    "    all_string = []\n",
    "    for i in data:\n",
    "        if type(i)==str:\n",
    "            all_string.append(i)\n",
    "        elif type(i)==float:\n",
    "            s=int(i)\n",
    "            all_string.append(str(s))\n",
    "        else:\n",
    "            all_string.append(str(i))\n",
    "\n",
    "    corr_region = []\n",
    "    for i in all_string:\n",
    "        if len(i)<4:\n",
    "            corr_region.append(\"{0:0>4}\".format(i))\n",
    "        elif (len(i)>4)&(i[3]=='.'):\n",
    "            corr_region.append(\"{0:0>4}\".format(i[:3]))\n",
    "        else:\n",
    "            corr_region.append(\"{0:0>4}\".format(i[:4]))\n",
    "\n",
    "    if region == 'fylke':\n",
    "        fylkesnr = []\n",
    "        for i in corr_region:\n",
    "            fylkesnr.append(i[:2])\n",
    "        return fylkesnr\n",
    "    elif region == 'kommune':\n",
    "        return corr_region\n",
    "    else:\n",
    "        raise ValueError('Please enter either: fylke or kommune')"
   ]
  },
  {
   "cell_type": "code",
   "execution_count": 29,
   "metadata": {
    "Collapsed": "false"
   },
   "outputs": [],
   "source": [
    "test = fixregionskode(testdata, 'fylke')\n",
    "    "
   ]
  },
  {
   "cell_type": "code",
   "execution_count": null,
   "metadata": {
    "Collapsed": "false"
   },
   "outputs": [],
   "source": []
  }
 ],
 "metadata": {
  "kernelspec": {
   "display_name": "Python 3",
   "language": "python",
   "name": "python3"
  },
  "language_info": {
   "codemirror_mode": {
    "name": "ipython",
    "version": 3
   },
   "file_extension": ".py",
   "mimetype": "text/x-python",
   "name": "python",
   "nbconvert_exporter": "python",
   "pygments_lexer": "ipython3",
   "version": "3.7.4"
  },
  "toc": {
   "base_numbering": 1,
   "nav_menu": {},
   "number_sections": true,
   "sideBar": true,
   "skip_h1_title": false,
   "title_cell": "Table of Contents",
   "title_sidebar": "Contents",
   "toc_cell": false,
   "toc_position": {},
   "toc_section_display": true,
   "toc_window_display": false
  },
  "varInspector": {
   "cols": {
    "lenName": 16,
    "lenType": 16,
    "lenVar": 40
   },
   "kernels_config": {
    "python": {
     "delete_cmd_postfix": "",
     "delete_cmd_prefix": "del ",
     "library": "var_list.py",
     "varRefreshCmd": "print(var_dic_list())"
    },
    "r": {
     "delete_cmd_postfix": ") ",
     "delete_cmd_prefix": "rm(",
     "library": "var_list.r",
     "varRefreshCmd": "cat(var_dic_list()) "
    }
   },
   "types_to_exclude": [
    "module",
    "function",
    "builtin_function_or_method",
    "instance",
    "_Feature"
   ],
   "window_display": false
  }
 },
 "nbformat": 4,
 "nbformat_minor": 4
}
