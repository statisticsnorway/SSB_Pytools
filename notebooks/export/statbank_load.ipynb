{
 "cells": [
  {
   "cell_type": "code",
   "execution_count": null,
   "metadata": {},
   "outputs": [],
   "source": [
    "import ipywidgets as widgets\n",
    "from ipywidgets import HBox, VBox"
   ]
  },
  {
   "cell_type": "markdown",
   "metadata": {},
   "source": [
    "## Parameters for the loading programs to statbank"
   ]
  },
  {
   "cell_type": "markdown",
   "metadata": {},
   "source": [
    "date\t\n",
    "> The date the table should be published to Statistikkbanken"
   ]
  },
  {
   "cell_type": "code",
   "execution_count": null,
   "metadata": {},
   "outputs": [],
   "source": [
    "date = widgets.DatePicker(\n",
    "    description='Pick date',\n",
    "    disabled=False\n",
    ")"
   ]
  },
  {
   "cell_type": "markdown",
   "metadata": {},
   "source": [
    "path\t\n",
    "> Path for the loadingfiles placement. Should end with a slash (/)"
   ]
  },
  {
   "cell_type": "code",
   "execution_count": null,
   "metadata": {},
   "outputs": [],
   "source": [
    "path = widgets.Text(\n",
    "    value='/ssb/stamme01/',\n",
    "    placeholder='Path',\n",
    "    description='Path:',\n",
    "    disabled=False\n",
    ")"
   ]
  },
  {
   "cell_type": "markdown",
   "metadata": {},
   "source": [
    "file\t\n",
    "> Name of the datafile to be loaded. Case-sensitive."
   ]
  },
  {
   "cell_type": "code",
   "execution_count": null,
   "metadata": {},
   "outputs": [],
   "source": [
    "file = widgets.Text(\n",
    "    value='bmekurstab41.dat',\n",
    "    placeholder='File name',\n",
    "    description='File:',\n",
    "    disabled=False\n",
    ")"
   ]
  },
  {
   "cell_type": "markdown",
   "metadata": {},
   "source": [
    "tablename\t\n",
    "> Name of table to load"
   ]
  },
  {
   "cell_type": "code",
   "execution_count": null,
   "metadata": {},
   "outputs": [],
   "source": [
    "tablename = widgets.Text(\n",
    "    value='bmekurstab4',\n",
    "    placeholder='Tablename',\n",
    "    description='Tablename:',\n",
    "    disabled=False\n",
    ")"
   ]
  },
  {
   "cell_type": "markdown",
   "metadata": {},
   "source": [
    "overwrite\t\n",
    "> Automatically overwrite duplicates on time"
   ]
  },
  {
   "cell_type": "code",
   "execution_count": null,
   "metadata": {},
   "outputs": [],
   "source": [
    "overwrite = widgets.Checkbox(\n",
    "    value=True,\n",
    "    description='Overwrite duplicates on time',\n",
    "    disabled=False,\n",
    "    indent=False\n",
    ")"
   ]
  },
  {
   "cell_type": "markdown",
   "metadata": {},
   "source": [
    "approval\t\n",
    "> How and when should the data be approved?\n",
    ">>0 = Manual approval \\\n",
    "1 = Automatic after load (immediatly)\\\n",
    "2 = JIT (Just In Time, right before publishing time)"
   ]
  },
  {
   "cell_type": "code",
   "execution_count": null,
   "metadata": {},
   "outputs": [],
   "source": [
    "approval = widgets.Dropdown(\n",
    "    options=['Manual approval', 'Immediatly', 'Just In Time'],\n",
    "    value='Manual approval',\n",
    "    description='Approval:',\n",
    "    disabled=False,\n",
    ")"
   ]
  },
  {
   "cell_type": "markdown",
   "metadata": {},
   "source": [
    "dbase\t\n",
    "> Server to load onto. TEST, QA or PROD"
   ]
  },
  {
   "cell_type": "code",
   "execution_count": null,
   "metadata": {},
   "outputs": [],
   "source": [
    "dbase = widgets.Dropdown(\n",
    "    options=['TEST', 'QA', 'PROD'],\n",
    "    value='TEST',\n",
    "    description='Server:',\n",
    "    disabled=False,\n",
    ")"
   ]
  },
  {
   "cell_type": "markdown",
   "metadata": {},
   "source": [
    "user\n",
    "> Oracle userid for the person loading the data."
   ]
  },
  {
   "cell_type": "code",
   "execution_count": null,
   "metadata": {},
   "outputs": [],
   "source": [
    "user = widgets.Text(\n",
    "    value='brukernavn',\n",
    "    placeholder='Oracle user id',\n",
    "    description='OracleUser:',\n",
    "    disabled=False\n",
    ")"
   ]
  },
  {
   "cell_type": "markdown",
   "metadata": {},
   "source": [
    "password\t\n",
    "> Oracle-password for the userid above."
   ]
  },
  {
   "cell_type": "code",
   "execution_count": null,
   "metadata": {},
   "outputs": [],
   "source": [
    "password = widgets.Password(\n",
    "    value='passord',\n",
    "    placeholder='Oracle password',\n",
    "    description='OraclePass:',\n",
    "    disabled=False\n",
    ")\n"
   ]
  },
  {
   "cell_type": "markdown",
   "metadata": {},
   "source": [
    "initials\n",
    "> User to recieve email about the load. "
   ]
  },
  {
   "cell_type": "code",
   "execution_count": null,
   "metadata": {},
   "outputs": [],
   "source": [
    "initials = widgets.Text(\n",
    "    value='aaa',\n",
    "    placeholder='initials',\n",
    "    description='Mail-initials:',\n",
    "    disabled=False\n",
    ")"
   ]
  },
  {
   "cell_type": "markdown",
   "metadata": {},
   "source": [
    "## Fill Parameters"
   ]
  },
  {
   "cell_type": "code",
   "execution_count": null,
   "metadata": {},
   "outputs": [],
   "source": [
    "VBox([\n",
    "    HBox([user, password, initials]),\n",
    "    HBox([date, overwrite]),\n",
    "    HBox([dbase, approval, ]),\n",
    "    HBox([path, file, tablename])\n",
    "    \n",
    "])"
   ]
  },
  {
   "cell_type": "markdown",
   "metadata": {},
   "source": [
    "## Summary Parameters"
   ]
  },
  {
   "cell_type": "code",
   "execution_count": null,
   "metadata": {},
   "outputs": [],
   "source": [
    "print(\n",
    "    'Date:\\t\\t', date.value, '\\n',\n",
    "    'Path:\\t', path.value, '\\n',\n",
    "    'File:\\t\\t', file.value, '\\n',\n",
    "    'Tabele:\\t', tablename.value, '\\n',\n",
    "    'Overwrite:\\t', overwrite.value, '\\n',\n",
    "    'Approval:\\t', approval.value, '\\n',\n",
    "    'Server:\\t', dbase.value, '\\n',\n",
    "    'User:\\t', user.value, '\\n',\n",
    "    'Password:\\t', len(password.value) * '*', '\\n',\n",
    "    'Email:\\t\\t', f'{initials.value}@ssb.no'\n",
    ")"
   ]
  },
  {
   "cell_type": "markdown",
   "metadata": {},
   "source": [
    "### Convert parameters\n",
    "Also recoding to match what the perl and bash-scripts expect."
   ]
  },
  {
   "cell_type": "code",
   "execution_count": null,
   "metadata": {},
   "outputs": [],
   "source": [
    "user = user.value\n",
    "password = password.value\n",
    "path = path.value\n",
    "file = file.value\n",
    "tablename = tablename.value\n",
    "dato = date.value\n",
    "initials = initials.value\n",
    "overskriv = overwrite.value\n",
    "godkjenn = approval.value"
   ]
  },
  {
   "cell_type": "markdown",
   "metadata": {},
   "source": [
    "## Run external scripts"
   ]
  },
  {
   "cell_type": "code",
   "execution_count": null,
   "metadata": {},
   "outputs": [],
   "source": [
    "perl_path = f'/ssb/stamme04/statbas/system/prog/filoverforing/{dbase.value}/overforing.pl'\n",
    "perl_path"
   ]
  },
  {
   "cell_type": "code",
   "execution_count": null,
   "metadata": {},
   "outputs": [],
   "source": [
    "laste_path = f'/ssb/stamme04/system/prog/bestillLasting/{dbase.value}/bestillLasting.sh'\n",
    "laste_path"
   ]
  },
  {
   "cell_type": "code",
   "execution_count": null,
   "metadata": {},
   "outputs": [],
   "source": [
    "# Remove old log\n",
    "!rm /tmp/$user\\_overforing_sas.log"
   ]
  },
  {
   "cell_type": "code",
   "execution_count": null,
   "metadata": {},
   "outputs": [],
   "source": [
    "# Run perl script\n",
    "!$perl_path -o /tmp -a $user $password $path$file > /tmp/$user\\_overforing_sas.log 2>&1"
   ]
  },
  {
   "cell_type": "code",
   "execution_count": null,
   "metadata": {},
   "outputs": [],
   "source": [
    "# Terminal command\n",
    "#f'{perl_path} -o /tmp -a {user} {password} {path}{file} > /tmp/{user}_overforing_sas.log 2>&1'"
   ]
  },
  {
   "cell_type": "code",
   "execution_count": null,
   "metadata": {},
   "outputs": [],
   "source": [
    "# List files in /tmp/\n",
    "#import os\n",
    "#for filename in os.listdir('/tmp/'): print(filename)"
   ]
  },
  {
   "cell_type": "code",
   "execution_count": null,
   "metadata": {},
   "outputs": [],
   "source": [
    "# Read the log\n",
    "log = open(f'/tmp/{user}_overforing_sas.log')\n",
    "# Print the log\n",
    "print(log.read())"
   ]
  },
  {
   "cell_type": "code",
   "execution_count": null,
   "metadata": {},
   "outputs": [],
   "source": [
    "# Only if the log contains a message of success do we continue\n",
    "if 'Programmet er ferdig' in log.read():\n",
    "    # Remove the order-log\n",
    "    !rm /tmp/$user\\_bestillLasting_sas.log\n",
    "    # Run bash-script to order the load\n",
    "    !$laste_path $user $password $tablename $dato 10:00 $initials $overskriv $godkjenn > /tmp/$user\\_bestillLasting_sas.log 2>&1\n",
    "    # Alternative truncated version of call, will set defaults on last 4 parameters: \"10:00\", \"whoami\" = initials, overwrite: \"1\", approval: \"2\"\n",
    "    #!$laste_path $user $password $tablename $dato > /tmp/$user\\_bestillLasting_sas.log 2>&1\n",
    "    # Open the order-log\n",
    "    laste_log = open(f'/tmp/{user}_bestillLasting_sas.log')\n",
    "    # Print order-log\n",
    "    print(laste_log.read())"
   ]
  },
  {
   "cell_type": "code",
   "execution_count": null,
   "metadata": {},
   "outputs": [],
   "source": [
    "# Delete password from memory\n",
    "del password"
   ]
  }
 ],
 "metadata": {
  "kernelspec": {
   "display_name": "Python 3",
   "language": "python",
   "name": "python3"
  },
  "language_info": {
   "codemirror_mode": {
    "name": "ipython",
    "version": 3
   },
   "file_extension": ".py",
   "mimetype": "text/x-python",
   "name": "python",
   "nbconvert_exporter": "python",
   "pygments_lexer": "ipython3",
   "version": "3.8.8"
  }
 },
 "nbformat": 4,
 "nbformat_minor": 4
}
